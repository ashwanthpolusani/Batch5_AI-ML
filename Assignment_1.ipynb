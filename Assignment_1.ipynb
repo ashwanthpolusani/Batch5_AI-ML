{
  "nbformat": 4,
  "nbformat_minor": 0,
  "metadata": {
    "colab": {
      "provenance": [],
      "authorship_tag": "ABX9TyOcUNDd/vRd6wZGe+PsZpum",
      "include_colab_link": true
    },
    "kernelspec": {
      "name": "python3",
      "display_name": "Python 3"
    },
    "language_info": {
      "name": "python"
    }
  },
  "cells": [
    {
      "cell_type": "markdown",
      "metadata": {
        "id": "view-in-github",
        "colab_type": "text"
      },
      "source": [
        "<a href=\"https://colab.research.google.com/github/ashwanthpolusani/Batch5_AI-ML/blob/main/Assignment_1.ipynb\" target=\"_parent\"><img src=\"https://colab.research.google.com/assets/colab-badge.svg\" alt=\"Open In Colab\"/></a>"
      ]
    },
    {
      "cell_type": "markdown",
      "source": [
        "Implementnt Basic Data Structures using Numpy, Pandas"
      ],
      "metadata": {
        "id": "ELPRzQkLJkSf"
      }
    },
    {
      "cell_type": "markdown",
      "source": [
        "1.Lists"
      ],
      "metadata": {
        "id": "OFAxPLIKKC8F"
      }
    },
    {
      "cell_type": "code",
      "source": [
        "a=[1,2,3,4,5]\n",
        "b=['a','b','f','z']\n",
        "c=[\"ashwanth\",\"lark\",\"adam\"]"
      ],
      "metadata": {
        "id": "M5yzRRt6J8L6"
      },
      "execution_count": 25,
      "outputs": []
    },
    {
      "cell_type": "markdown",
      "source": [
        "list operations"
      ],
      "metadata": {
        "id": "4-WDJ8fuK0RV"
      }
    },
    {
      "cell_type": "code",
      "source": [
        "a.append(99)\n",
        "a.pop(2)\n",
        "print(a)\n",
        "print(f\"Element at 1st position = {a[0]}\")\n",
        "print(f\"length of a = {len(a)}\")\n",
        "a.insert(3,48)\n",
        "print(a)\n",
        "a.insert(1,\"jack sparrow\")\n",
        "print(a)"
      ],
      "metadata": {
        "colab": {
          "base_uri": "https://localhost:8080/"
        },
        "id": "w6VdQ2RwK3Vc",
        "outputId": "8b2e316f-976c-458c-e3a7-6e874d009cc3"
      },
      "execution_count": 26,
      "outputs": [
        {
          "output_type": "stream",
          "name": "stdout",
          "text": [
            "[1, 2, 4, 5, 99]\n",
            "Element at 1st position = 1\n",
            "length of a = 5\n",
            "[1, 2, 4, 48, 5, 99]\n",
            "[1, 'jack sparrow', 2, 4, 48, 5, 99]\n"
          ]
        }
      ]
    },
    {
      "cell_type": "markdown",
      "source": [
        "pandas library"
      ],
      "metadata": {
        "id": "-fYBcUYgSK32"
      }
    },
    {
      "cell_type": "code",
      "source": [
        "import pandas as pd\n",
        "country=[\"India\",\"China\",\"Japan\",\"USA\"]\n",
        "capital=[\"Delhi\",\"Beejing\",\"Tokyo\",\"Washinton DC\"]\n",
        "Gdp=[3,5,11,50]\n",
        "\n",
        "offices=dict(country=country, capital=capital, GDP=Gdp)\n",
        "GDP=pd.DataFrame(offices)\n",
        "\n",
        "print(GDP.head())"
      ],
      "metadata": {
        "colab": {
          "base_uri": "https://localhost:8080/"
        },
        "id": "5nT_VHtNOD3T",
        "outputId": "14a67e56-0958-49e0-831a-5e32a5c8b354"
      },
      "execution_count": 27,
      "outputs": [
        {
          "output_type": "stream",
          "name": "stdout",
          "text": [
            "  country       capital  GDP\n",
            "0   India         Delhi    3\n",
            "1   China       Beejing    5\n",
            "2   Japan         Tokyo   11\n",
            "3     USA  Washinton DC   50\n"
          ]
        }
      ]
    },
    {
      "cell_type": "markdown",
      "source": [
        "identification of type of list and array using numpy"
      ],
      "metadata": {
        "id": "HqFyWzJ7Woxp"
      }
    },
    {
      "cell_type": "code",
      "source": [
        "import numpy as geek\n",
        "StudentId=[1456,1234,2567,3463,2335,1997]\n",
        "print(type(StudentId))\n",
        "IPaddress=geek.array([172.86,168.23,193.72,172.25])\n",
        "print(type(IPaddress))"
      ],
      "metadata": {
        "colab": {
          "base_uri": "https://localhost:8080/"
        },
        "id": "ABub3T-OWjBZ",
        "outputId": "fadc58f0-b3fd-4a24-8eb3-fe1ed68f5a65"
      },
      "execution_count": 28,
      "outputs": [
        {
          "output_type": "stream",
          "name": "stdout",
          "text": [
            "<class 'list'>\n",
            "<class 'numpy.ndarray'>\n"
          ]
        }
      ]
    },
    {
      "cell_type": "markdown",
      "source": [
        "creation of list using Numpy"
      ],
      "metadata": {
        "id": "6s62KTUYamoe"
      }
    },
    {
      "cell_type": "code",
      "source": [
        "import numpy as np\n",
        "patientbloodpressuredistollic=[120,85,93,167,155,132]\n",
        "patientbloodpressuresistollic=[65,71,80,62,56,43,50]\n",
        "print(\"The distollic blood pressure is dispalyed as\",patientbloodpressuredistollic)\n",
        "print(\"The sistollic blood pressure is dispalyed as\",patientbloodpressuresistollic)"
      ],
      "metadata": {
        "colab": {
          "base_uri": "https://localhost:8080/"
        },
        "id": "Gl7W7WdCWv7O",
        "outputId": "852b8ccb-4c69-4919-9ac2-9e01a81dcb42"
      },
      "execution_count": 29,
      "outputs": [
        {
          "output_type": "stream",
          "name": "stdout",
          "text": [
            "The distollic blood pressure is dispalyed as [120, 85, 93, 167, 155, 132]\n",
            "The sistollic blood pressure is dispalyed as [65, 71, 80, 62, 56, 43, 50]\n"
          ]
        }
      ]
    },
    {
      "cell_type": "markdown",
      "source": [
        "creation of arrays using Numpy"
      ],
      "metadata": {
        "id": "K4KCIGA-ahYk"
      }
    },
    {
      "cell_type": "code",
      "source": [
        "import numpy as geek\n",
        "Sensitivity=[98.7,88.5,96.05,78.09,85.9]\n",
        "IoTtempsensor=geek.array(Sensitivity)\n",
        "print(\"the IoT based temperature sensor Sensitivity are\",IoTtempsensor)\n",
        "Resloution=geek.array([0.001,0.01,0.98,0.998])\n",
        "print(\"the resloution o fthe IoT sensor are\",Resloution)"
      ],
      "metadata": {
        "colab": {
          "base_uri": "https://localhost:8080/"
        },
        "id": "K2qL9ujnWwJj",
        "outputId": "8a118845-cd90-4ac3-c4c8-f7ffd4274337"
      },
      "execution_count": 30,
      "outputs": [
        {
          "output_type": "stream",
          "name": "stdout",
          "text": [
            "the IoT based temperature sensor Sensitivity are [98.7  88.5  96.05 78.09 85.9 ]\n",
            "the resloution o fthe IoT sensor are [0.001 0.01  0.98  0.998]\n"
          ]
        }
      ]
    },
    {
      "cell_type": "markdown",
      "source": [
        "Combine text with Numpy fuction to generate a textual output - ”Addition of Two:\n",
        "array1 +array 2"
      ],
      "metadata": {
        "id": "bRc9XUE9bdzp"
      }
    },
    {
      "cell_type": "code",
      "source": [
        "import numpy as np\n",
        "array1 = np.array([1, 2, 3])\n",
        "array2 = np.array([4, 5, 6])\n",
        "result1 = np.add(array1, array2)\n",
        "print(\"addition\", result1)\n",
        "# Textual output\n",
        "text_output = \"Addition of Two: \" + str(array1) + \" + \" + str(array2)\n",
        "print(text_output)\n"
      ],
      "metadata": {
        "colab": {
          "base_uri": "https://localhost:8080/"
        },
        "id": "3iOErTGGWwYr",
        "outputId": "fe519d73-8da2-4bd5-9d80-3d0d750b2cb4"
      },
      "execution_count": 31,
      "outputs": [
        {
          "output_type": "stream",
          "name": "stdout",
          "text": [
            "addition [5 7 9]\n",
            "Addition of Two: [1 2 3] + [4 5 6]\n"
          ]
        }
      ]
    },
    {
      "cell_type": "markdown",
      "source": [
        "6. Implement np.sin(), log(), log2(), np.exp())"
      ],
      "metadata": {
        "id": "GQac1zEXaKai"
      }
    },
    {
      "cell_type": "code",
      "source": [
        "# np.sin()\n",
        "sin_array1 = np.sin(array1)\n",
        "print(\"sin(array1):\", sin_array1)\n",
        "\n",
        "# np.log()\n",
        "log_array1 = np.log(array1)\n",
        "print(\"log(array1):\", log_array1)\n",
        "\n",
        "# np.log2()\n",
        "log2_array1 = np.log2(array1)\n",
        "print(\"log2(array1):\", log2_array1)\n",
        "\n",
        "# np.exp()\n",
        "exp_array1 = np.exp(array1)\n",
        "print(\"exp(array1):\", exp_array1)\n"
      ],
      "metadata": {
        "colab": {
          "base_uri": "https://localhost:8080/"
        },
        "id": "ACWvU61oaSj1",
        "outputId": "b25735c8-e66d-4bcf-b634-3f6b95aeb49f"
      },
      "execution_count": 32,
      "outputs": [
        {
          "output_type": "stream",
          "name": "stdout",
          "text": [
            "sin(array1): [0.84147098 0.90929743 0.14112001]\n",
            "log(array1): [0.         0.69314718 1.09861229]\n",
            "log2(array1): [0.        1.        1.5849625]\n",
            "exp(array1): [ 2.71828183  7.3890561  20.08553692]\n"
          ]
        }
      ]
    },
    {
      "cell_type": "markdown",
      "source": [
        "PART 2"
      ],
      "metadata": {
        "id": "kubKp7PsWrZ1"
      }
    },
    {
      "cell_type": "code",
      "source": [
        "import pandas as pd\n",
        "import matplotlib.pyplot as plt\n",
        "\n",
        "# Given data\n",
        "people = ['kiran', 'arun', 'vijay', 'varun']\n",
        "age = [25, 30, 35, 40]\n",
        "height = [145, 151, 165, 173]\n",
        "weight = [45, 55, 65, 75]\n",
        "\n",
        "# Combine data into a dataframe\n",
        "data = pd.DataFrame({'People': people, 'Age': age, 'Height': height, 'Weight': weight})\n",
        "\n",
        "# Print the dataframe\n",
        "print(data)\n"
      ],
      "metadata": {
        "colab": {
          "base_uri": "https://localhost:8080/"
        },
        "id": "0RtC69OHWw8g",
        "outputId": "999ead10-e8ef-47f6-ebef-e0e4ba91c9c8"
      },
      "execution_count": 33,
      "outputs": [
        {
          "output_type": "stream",
          "name": "stdout",
          "text": [
            "  People  Age  Height  Weight\n",
            "0  kiran   25     145      45\n",
            "1   arun   30     151      55\n",
            "2  vijay   35     165      65\n",
            "3  varun   40     173      75\n"
          ]
        }
      ]
    },
    {
      "cell_type": "markdown",
      "source": [
        "Scatter Plot"
      ],
      "metadata": {
        "id": "VevXWLlAW09S"
      }
    },
    {
      "cell_type": "code",
      "source": [
        "plt.figure(figsize=(8, 6))\n",
        "plt.scatter(data['Height'], data['Weight'], color='blue')\n",
        "plt.title('Height vs Weight')\n",
        "plt.xlabel('Height (cm)')\n",
        "plt.ylabel('Weight (kg)')\n",
        "plt.grid(True)\n",
        "plt.show()"
      ],
      "metadata": {
        "colab": {
          "base_uri": "https://localhost:8080/",
          "height": 564
        },
        "id": "G6Q53ntrW56A",
        "outputId": "c4841992-dc2a-4df3-c9c3-15043b05d8d8"
      },
      "execution_count": 34,
      "outputs": [
        {
          "output_type": "display_data",
          "data": {
            "text/plain": [
              "<Figure size 800x600 with 1 Axes>"
            ],
            "image/png": "[encoded data removed]"
          },
          "metadata": {}
        }
      ]
    },
    {
      "cell_type": "markdown",
      "source": [
        "Bar Chart"
      ],
      "metadata": {
        "id": "3WqGpeCpW-u4"
      }
    },
    {
      "cell_type": "code",
      "source": [
        "plt.figure(figsize=(8, 6))\n",
        "plt.bar(data['People'], data['Age'], color='green')\n",
        "plt.title('Age of People')\n",
        "plt.xlabel('People')\n",
        "plt.ylabel('Age')\n",
        "plt.xticks(rotation=45)\n",
        "plt.show()\n"
      ],
      "metadata": {
        "colab": {
          "base_uri": "https://localhost:8080/",
          "height": 588
        },
        "id": "BWVhel1-XMD_",
        "outputId": "6f1d64b7-a954-4d7a-c0e1-eeb7405b5851"
      },
      "execution_count": 35,
      "outputs": [
        {
          "output_type": "display_data",
          "data": {
            "text/plain": [
              "<Figure size 800x600 with 1 Axes>"
            ],
            "image/png": "[encoded data removed]"
          },
          "metadata": {}
        }
      ]
    },
    {
      "cell_type": "markdown",
      "source": [
        "Histogram"
      ],
      "metadata": {
        "id": "Jn00cBwMXazg"
      }
    },
    {
      "cell_type": "code",
      "source": [
        "plt.figure(figsize=(8, 6))\n",
        "plt.hist(data['Age'], bins=5, color='orange', edgecolor='black')\n",
        "plt.title('Age Distribution')\n",
        "plt.xlabel('Age')\n",
        "plt.ylabel('Frequency')\n",
        "plt.grid(True)\n",
        "plt.show()\n"
      ],
      "metadata": {
        "colab": {
          "base_uri": "https://localhost:8080/",
          "height": 564
        },
        "id": "EAO-J24qXS21",
        "outputId": "ce549f3f-15d0-4a1a-f8af-fc2fdbcc6116"
      },
      "execution_count": 36,
      "outputs": [
        {
          "output_type": "display_data",
          "data": {
            "text/plain": [
              "<Figure size 800x600 with 1 Axes>"
            ],
            "image/png": "[encoded data removed]"
          },
          "metadata": {}
        }
      ]
    }
  ]
}